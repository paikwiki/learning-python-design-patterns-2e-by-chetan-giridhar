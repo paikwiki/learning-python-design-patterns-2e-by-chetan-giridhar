{
 "cells": [
  {
   "cell_type": "markdown",
   "metadata": {},
   "source": [
    "# 모델 - 뷰 - 컨트롤러 패턴\n",
    "\n",
    "컴파운드 패턴의 대표적인 패턴"
   ]
  },
  {
   "cell_type": "markdown",
   "metadata": {},
   "source": [
    "## 원리\n",
    "\n",
    "- 모델은 데이터와 비즈니스 로직(정보 저장 및 쿼리 로직)을 처리\n",
    "- 뷰는 데이터의 시각적 표현을 담당\n",
    "- 컨트롤러는 사용자의 요청에 따라 모델과 뷰 사이에서 요청을 처리\n",
    "- 뷰와 컨트롤러는 모델에 의존하지만 그 반대는 아님\n",
    "- 모델의 독립성이 MVC 패턴의 중요한 부분"
   ]
  },
  {
   "cell_type": "markdown",
   "metadata": {},
   "source": [
    "## 구성 요소\n",
    "\n",
    "- 모델: 데이터를 저장하고 조직하는 클래스. 비즈니스 로직이나 Client의 요청을 수행하는 작업을 정의\n",
    "- 뷰: 유저 인터페이스와 데이터의 시각적 표현을 담당하는 클래스. 모델은 비즈니스 로직에 따라 데이터를 뷰에 전달\n",
    "- 컨트롤러: 모델과 뷰를 연결하는 클래스. Client의 요청을 뷰에서 모델로 보냄 \n",
    "- 클라이언트: 목적에 따라 정보를 요청하는 클래스"
   ]
  },
  {
   "cell_type": "markdown",
   "metadata": {},
   "source": [
    "## 적용할만한 상황\n",
    "\n",
    "- 비즈니스 로직을 건드리지 않고 표현 계층만 수정해야 하는 경우\n",
    "- 유저 인터페이스를 수정하는 데 다수의 컨트롤러와 뷰가 사용될 수 있음\n",
    "- 모델은 뷰를 수정하지 않아도 변경할 수 있으므로 독립적\n",
    "\n"
   ]
  },
  {
   "cell_type": "markdown",
   "metadata": {},
   "source": [
    "## 목적\n",
    "\n",
    "- 데이터의 조작과 표현의 분리\n",
    "- 쉬운 유지보수와 구현\n",
    "- 유연한 데이터 저장과 표현 방식의 수정"
   ]
  },
  {
   "cell_type": "markdown",
   "metadata": {},
   "source": [
    "## 장점\n",
    "\n",
    "- 애플리케이션을 모델과 뷰, 컨트롤러로 나누면 유지보수가 쉽고, 요소 간의 독립성이 높아져 복잡성이 감소함\n",
    "- 백엔드 수정 없이 독립적으로 프런트엔드 수정 가능\n",
    "- 모델이나 비즈니스 로직도 모델과 독립적으로 수정 가능\n",
    "- 컨트롤러도 뷰와 모델과는 독립적으로 수정 가능\n",
    "- 특정 분야의 전문가가 독립적으로 일할 수 있는 환경 제공"
   ]
  },
  {
   "cell_type": "code",
   "execution_count": 4,
   "metadata": {},
   "outputs": [
    {
     "name": "stdout",
     "output_type": "stream",
     "text": [
      "Services Provided:\n",
      "email  \n",
      "sms  \n",
      "voice  \n",
      "Pricing for services:\n",
      "For 1000 email message you pay $ 2\n",
      "For 1000 sms message you pay $ 10\n",
      "For 1000 voice message you pay $ 15\n"
     ]
    }
   ],
   "source": [
    "# MVC 패턴 예시\n",
    "class Model:\n",
    "    services = {\n",
    "        \"email\": {\"number\": 1000, \"price\": 2},\n",
    "        \"sms\": {\"number\": 1000, \"price\": 10},\n",
    "        \"voice\": {\"number\": 1000, \"price\": 15},\n",
    "    }\n",
    "\n",
    "\n",
    "class View:\n",
    "    def list_services(self, services):\n",
    "        for svc in services:\n",
    "            print(svc, \" \")\n",
    "\n",
    "    def list_pricing(self, services):\n",
    "        for svc in services:\n",
    "            print(\n",
    "                \"For\",\n",
    "                Model.services[svc][\"number\"],\n",
    "                svc,\n",
    "                \"message you pay $\",\n",
    "                Model.services[svc][\"price\"],\n",
    "            )\n",
    "\n",
    "\n",
    "class Controller:\n",
    "    def __init__(self):\n",
    "        self.model = Model()\n",
    "        self.view = View()\n",
    "\n",
    "    def get_services(self):\n",
    "        services = self.model.services.keys()\n",
    "        return self.view.list_services(services)\n",
    "\n",
    "    def get_pricing(self):\n",
    "        services = self.model.services.keys()\n",
    "        return self.view.list_pricing(services)\n",
    "\n",
    "\n",
    "class Client:\n",
    "    controller = Controller()\n",
    "    print(\"Services Provided:\")\n",
    "    controller.get_services()\n",
    "    print(\"Pricing for services:\")\n",
    "    controller.get_pricing()\n",
    "\n",
    "\n",
    "# Services Provided:\n",
    "# email\n",
    "# sms\n",
    "# voice\n",
    "# Pricing for services:\n",
    "# For 1000 email message you pay $ 2\n",
    "# For 1000 sms message you pay $ 10\n",
    "# For 1000 voice message you pay $ 15"
   ]
  },
  {
   "cell_type": "code",
   "execution_count": 6,
   "metadata": {},
   "outputs": [
    {
     "name": "stdout",
     "output_type": "stream",
     "text": [
      "Client: asks for certain information\n",
      "Controller: Relayed the Client asks\n",
      "Model: Crunching data as per buisiness logic\n",
      "View: Updating the view with results: Got it!\n"
     ]
    }
   ],
   "source": [
    "# MVC 패턴 예시\n",
    "class Model:\n",
    "    def logic(self):\n",
    "        data = \"Got it!\"\n",
    "        print(\"Model: Crunching data as per buisiness logic\")\n",
    "        return data\n",
    "\n",
    "\n",
    "class View:\n",
    "    def update(self, data):\n",
    "        print(\"View: Updating the view with results:\", data)\n",
    "\n",
    "\n",
    "class Controller:\n",
    "    def __init__(self):\n",
    "        self.model = Model()\n",
    "        self.view = View()\n",
    "\n",
    "    def interface(self):\n",
    "        print(\"Controller: Relayed the Client asks\")\n",
    "        data = self.model.logic()\n",
    "        self.view.update(data)\n",
    "\n",
    "\n",
    "class Client:\n",
    "    print(\"Client: asks for certain information\")\n",
    "    controller = Controller()\n",
    "    controller.interface()\n",
    "\n",
    "\n",
    "# Client: asks for certain information\n",
    "# Controller: Relayed the Client asks\n",
    "# Model: Crunching data as per buisiness logic\n",
    "# View: Updating the view with results: Got it!"
   ]
  },
  {
   "cell_type": "markdown",
   "metadata": {},
   "source": [
    "## MVC 패턴 예시 - 토네이도 웹 애플리케이션 프레임워크\n",
    "\n",
    "- 소스 폴더: [./chapter09](./chapter09)"
   ]
  }
 ],
 "metadata": {
  "kernelspec": {
   "display_name": "Python 3",
   "language": "python",
   "name": "python3"
  },
  "language_info": {
   "codemirror_mode": {
    "name": "ipython",
    "version": 3
   },
   "file_extension": ".py",
   "mimetype": "text/x-python",
   "name": "python",
   "nbconvert_exporter": "python",
   "pygments_lexer": "ipython3",
   "version": "3.11.5"
  }
 },
 "nbformat": 4,
 "nbformat_minor": 2
}
