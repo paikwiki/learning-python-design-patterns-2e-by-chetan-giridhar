{
 "cells": [
  {
   "cell_type": "markdown",
   "id": "45d02f09",
   "metadata": {},
   "source": [
    "# 2장. 싱글톤 디자인 패턴"
   ]
  },
  {
   "cell_type": "markdown",
   "id": "4c47c80a",
   "metadata": {},
   "source": [
    "## 목적\n",
    "\n",
    "- 클래스에 대한 단일 객체 생성\n",
    "- 전역 객체 제공\n",
    "- 공유된 리소스에 대한 동시 접근 제어"
   ]
  },
  {
   "cell_type": "code",
   "execution_count": 1,
   "id": "65128553-a738-40cb-945b-e1f5e26003c9",
   "metadata": {},
   "outputs": [
    {
     "name": "stdout",
     "output_type": "stream",
     "text": [
      "Object created <__main__.Singleton object at 0x1049c1690>\n",
      "Object created <__main__.Singleton object at 0x1049c0fd0>\n"
     ]
    }
   ],
   "source": [
    "# 파이썬 싱글톤 패턴\n",
    "class Singleton(object):\n",
    "    def __new__(cls):\n",
    "        if not hasattr(cls, \"_instance\"):\n",
    "            cls.instance = super(Singleton, cls).__new__(cls)\n",
    "        return cls.instance\n",
    "\n",
    "\n",
    "s = Singleton()\n",
    "print(\"Object created\", s)\n",
    "\n",
    "s1 = Singleton()\n",
    "print(\"Object created\", s1)\n",
    "\n",
    "# $ py singeton.py\n",
    "# Object created <__main__.Singleton object at 0x102fad9d0>\n",
    "# Object created <__main__.Singleton object at 0x102fada10>"
   ]
  },
  {
   "cell_type": "code",
   "execution_count": 2,
   "id": "7010bd75-8d64-4a4d-a852-8dacd9602ac2",
   "metadata": {},
   "outputs": [
    {
     "name": "stdout",
     "output_type": "stream",
     "text": [
      "__init__ method called.\n",
      "__init__ method called.\n",
      "Object created <__main__.Singleton object at 0x1043c1f10>\n",
      "Instance already created: <__main__.Singleton object at 0x1043c1f10>\n"
     ]
    }
   ],
   "source": [
    "# 게으른 초기화\n",
    "class Singleton:\n",
    "    __instance = None\n",
    "\n",
    "    def __init__(self):\n",
    "        if not Singleton.__instance:\n",
    "            print(\"__init__ method called.\")\n",
    "        else:\n",
    "            print(\"Instance already created:\", self.getInstance())\n",
    "\n",
    "    @classmethod\n",
    "    def getInstance(cls):\n",
    "        if not cls.__instance:\n",
    "            cls.__instance = Singleton()\n",
    "        return cls.__instance\n",
    "\n",
    "\n",
    "s = Singleton()  ## 클래스 초기화, 객체 생성하지 않음\n",
    "print(\"Object created\", Singleton.getInstance())  # 객체 생성\n",
    "s1 = Singleton()  ## 객체는 이미 생성됐음\n",
    "\n",
    "# __init__ method called.\n",
    "# __init__ method called.\n",
    "# Object created <__main__.Singleton object at 0x10425ff10>\n",
    "# Instance already created: <__main__.Singleton object at 0x10425ff10>"
   ]
  },
  {
   "cell_type": "code",
   "execution_count": 1,
   "id": "144e8a63-50f4-44ba-b42d-f2baa3913a93",
   "metadata": {},
   "outputs": [
    {
     "name": "stdout",
     "output_type": "stream",
     "text": [
      "Borg Object 'b': <__main__.Borg object at 0x107cb7490>\n",
      "Borg Object 'b1': <__main__.Borg object at 0x107ca81d0>\n",
      "Object State 'b': {'1': '2', 'x': 4}\n",
      "Object State 'b1': {'1': '2', 'x': 4}\n"
     ]
    }
   ],
   "source": [
    "# 모노스테이트 싱글톤 패턴\n",
    "class Borg:\n",
    "    __shared_state = {\"1\": \"2\"}\n",
    "\n",
    "    def __init__(self):\n",
    "        self.x = 1\n",
    "        self.__dict__ = self.__shared_state\n",
    "        pass\n",
    "\n",
    "\n",
    "b = Borg()\n",
    "b1 = Borg()\n",
    "b.x = 4\n",
    "\n",
    "print(f\"Borg Object 'b': {b}\")\n",
    "print(f\"Borg Object 'b1': {b1}\")\n",
    "print(f\"Object State 'b': {b.__dict__}\")\n",
    "print(f\"Object State 'b1': {b1.__dict__}\")"
   ]
  },
  {
   "cell_type": "code",
   "execution_count": 3,
   "id": "1c2f1f0b",
   "metadata": {},
   "outputs": [
    {
     "name": "stdout",
     "output_type": "stream",
     "text": [
      "Borg Object 'b': <__main__.Borg object at 0x107ccf450>\n",
      "Borg Object 'b1': <__main__.Borg object at 0x107cb7490>\n",
      "Object State 'b': {'x': 4}\n",
      "Object State 'b1': {'x': 4}\n"
     ]
    }
   ],
   "source": [
    "# __new__ 메소드를 사용해 구현\n",
    "class Borg(object):\n",
    "    _shared_state = {}\n",
    "\n",
    "    def __new__(cls, *args, **kwargs):\n",
    "        obj = super(Borg, cls).__new__(cls, *args, **kwargs)\n",
    "        obj.__dict__ = cls._shared_state\n",
    "        return obj\n",
    "\n",
    "\n",
    "b = Borg()\n",
    "b1 = Borg()\n",
    "b.x = 4\n",
    "\n",
    "print(f\"Borg Object 'b': {b}\")\n",
    "print(f\"Borg Object 'b1': {b1}\")\n",
    "print(f\"Object State 'b': {b.__dict__}\")\n",
    "print(f\"Object State 'b1': {b1.__dict__}\")"
   ]
  },
  {
   "cell_type": "code",
   "execution_count": 7,
   "id": "9d6a8814",
   "metadata": {},
   "outputs": [
    {
     "name": "stdout",
     "output_type": "stream",
     "text": [
      "***** Here's My int ***** (4, 5)\n",
      "Now do whatever you want with these objects...\n",
      "{'x': 4, 'y': 5}\n"
     ]
    }
   ],
   "source": [
    "# 메타 클래스\n",
    "class MyInt(type):\n",
    "    def __call__(cls, *args, **kwargs):\n",
    "        print(\"***** Here's My int *****\", args)\n",
    "        print(\"Now do whatever you want with these objects...\")\n",
    "        return type.__call__(cls, *args, **kwargs)\n",
    "\n",
    "class int(metaclass=MyInt):\n",
    "    def __init__(self, x, y):\n",
    "        self.x = x\n",
    "        self.y = y\n",
    "\n",
    "i = int(4,5)\n",
    "print(i.__dict__)"
   ]
  },
  {
   "cell_type": "code",
   "execution_count": 8,
   "id": "038d9cbd",
   "metadata": {},
   "outputs": [
    {
     "name": "stdout",
     "output_type": "stream",
     "text": [
      "<__main__.Logger object at 0x118230ad0> <__main__.Logger object at 0x118230ad0>\n"
     ]
    }
   ],
   "source": [
    "# 메타클래스로 싱글톤 패턴 구현\n",
    "class MetaSingleton(type):\n",
    "    _instances = {}\n",
    "\n",
    "    def __call__(cls, *args, **kwargs):\n",
    "        if cls not in cls._instances:\n",
    "            cls._instances[cls] = super(MetaSingleton, cls).__call__(*args, **kwargs)\n",
    "        return cls._instances[cls]\n",
    "\n",
    "\n",
    "class Logger(metaclass=MetaSingleton):\n",
    "    pass\n",
    "\n",
    "\n",
    "logger1 = Logger()\n",
    "logger2 = Logger()\n",
    "print(logger1, logger2)"
   ]
  }
 ],
 "metadata": {
  "kernelspec": {
   "display_name": "Python 3 (ipykernel)",
   "language": "python",
   "name": "python3"
  },
  "language_info": {
   "codemirror_mode": {
    "name": "ipython",
    "version": 3
   },
   "file_extension": ".py",
   "mimetype": "text/x-python",
   "name": "python",
   "nbconvert_exporter": "python",
   "pygments_lexer": "ipython3",
   "version": "3.11.5"
  }
 },
 "nbformat": 4,
 "nbformat_minor": 5
}
