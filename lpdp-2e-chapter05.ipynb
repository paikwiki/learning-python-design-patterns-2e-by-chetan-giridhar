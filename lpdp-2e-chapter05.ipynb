{
 "cells": [
  {
   "cell_type": "markdown",
   "metadata": {},
   "source": [
    "# 프록시 디자인 패턴"
   ]
  },
  {
   "cell_type": "markdown",
   "metadata": {},
   "source": [
    "## 목적\n",
    "\n",
    "- 복잡한 시스템을 간단하게 표현\n",
    "- 객체에 대한 보안 제공\n",
    "- 다른 서버에 존재하는 외부 객체에 대한 로컬 인터페이스를 제공\n",
    "- 메모리 사용량이 높은 객체를 다루는 가벼운 핸들러 역할"
   ]
  },
  {
   "cell_type": "markdown",
   "metadata": {},
   "source": [
    "## 역할\n",
    "\n",
    "- 특정 객체의 대리 객체를 제공해 접근 제어\n",
    "- 분산 구조를 지원하기 위한 레이어 또는 인터페이스 제공\n",
    "- 의도하지 않은 케이스로부터 객체 보호"
   ]
  },
  {
   "cell_type": "markdown",
   "metadata": {},
   "source": [
    "### 구성 요소의 역할\n",
    "\n",
    "- `Proxy`: 실 객체에 접근할 수 있는 레퍼런스 유지. `Subject`와 동일한 인터페이스 구조를 가지므로 실 객체를 대체할 수 있음. `RealSubject`의 생성과 소멸 담당\n",
    "- `Subject`: `RealSubject`와 `Proxy`를 책임짐. `Proxy`와 `RealSubject`가 `Subject` 인터페이스를 구현하기 때문에 `RealSubject`를 `Proxy`로 대체 가능\n",
    "- `RealSubject`: `Proxy`가 대체하는 실 객체를 나타냄"
   ]
  },
  {
   "cell_type": "markdown",
   "metadata": {},
   "source": [
    "## 프록시의 유형\n",
    "\n",
    "### 가상 프록시(Virtual Proxy)\n",
    "\n",
    "- 인스턴스화 하기 무거운 객체의 플레이스 홀더 역할\n",
    "- 웹사이트의 큰 이미지에 클라이언트가 객체를 처음 요청하거나 접근했을 때 실 객체를 생성\n",
    "\n",
    "### 원격 프록시(Remote Proxy)\n",
    "\n",
    "- 원격 서버나 다른 주소 공간에 존재하는 객체에 대한 로컬 인스턴스 생성\n",
    "- 다수의 웹서버, DB서버, 작업 서버, 캐시 서버 등으로 구성된 앱의 모니터링 시스템 구성시, 원격 객체를 로컬에서 제어할 수 있는 원격 프록시 객체를 생성\n",
    "\n",
    "### 보호 프록시(Protective Proxy)\n",
    "\n",
    "- `RealSubject`의 중요한 부분에 대한 접근 제어\n",
    "- 사용자의 인증과 허가를 담당하는 인증 서비스\n",
    "- 웹사이트의 핵심 기능을 허가 받지 않은 에이전트로부터 보호\n",
    "\n",
    "### 스마트 프록시(Smart Proxy)\n",
    "\n",
    "- 사용자가 객체에 접근했을 때 추가 행동을 취함\n",
    "- 상태를 중앙 서버에 저장하는 핵심 기능을 하는 서비스에서 리소스 공유 문제를 방지하기 위해 각 서비스가 이 기능을 직접 호출하는 대신 스마트 프록시가 객체의 잠금 상태를 확인하는 기능을 추가로 수행해 접근 제어"
   ]
  },
  {
   "cell_type": "markdown",
   "metadata": {},
   "source": [
    "## 퍼사드와 프록시 패턴 비교\n",
    "\n",
    "| 프록시 패턴                                                         | 퍼사드 패턴                                |\n",
    "| ------------------------------------------------------------------- | ------------------------------------------ |\n",
    "| 실 객체의 대리 객체를 제공해 접근 제어                              | 클래스의 서브시스템에 대한 인터페이스 제공 |\n",
    "| 타겟 객체와 동일한 인터페이스 구조를 가지며 타겟에 대한 참조를 가짐 | 서브시스템 간의 의존도와 통신 최소화       |\n",
    "| 클라이언트와 감싸고 있는 객체 사이의 중재자 역할                    | 하나의 통합된 간단한 인터페이스를 제공     |\n"
   ]
  },
  {
   "cell_type": "code",
   "execution_count": 1,
   "metadata": {},
   "outputs": [
    {
     "name": "stdout",
     "output_type": "stream",
     "text": [
      "Actor is free for the movie\n"
     ]
    }
   ],
   "source": [
    "# 프록시 디자인 패턴\n",
    "class Actor:\n",
    "    def __init__(self):\n",
    "        self.isBusy = False\n",
    "\n",
    "    def occupied(self):\n",
    "        self.isBusy = True\n",
    "        print(type(self).__name__, \"is occupied with current movie\")\n",
    "\n",
    "    def available(self):\n",
    "        self.isBusy = False\n",
    "        print(type(self).__name__, \"is free for the movie\")\n",
    "\n",
    "    def getStatus(self):\n",
    "        return self.isBusy\n",
    "\n",
    "\n",
    "class Agent:\n",
    "    def __init__(self):\n",
    "        self.principal = None\n",
    "\n",
    "    def work(self):\n",
    "        self.actor = Actor()\n",
    "        if self.actor.getStatus():\n",
    "            self.actor.occupied()\n",
    "        else:\n",
    "            self.actor.available()\n",
    "\n",
    "\n",
    "if __name__ == \"__main__\":\n",
    "    r = Agent()\n",
    "    r.work()\n",
    "\n",
    "# Actor is free for the movie"
   ]
  },
  {
   "cell_type": "code",
   "execution_count": 11,
   "metadata": {},
   "outputs": [
    {
     "name": "stdout",
     "output_type": "stream",
     "text": [
      "You:: Lets buy the Denim shirt\n",
      "Bank:: Checking if Account 1111 has enough funds\n",
      "Bank:: Paying the merchant\n",
      "You:: Wow! Denim shirt is Mine :-)\n"
     ]
    }
   ],
   "source": [
    "# 프록시 디자인 패턴 - 결제 시스템 예시\n",
    "from abc import ABCMeta, abstractmethod\n",
    "\n",
    "\n",
    "class Payment(metaclass=ABCMeta):\n",
    "    @abstractmethod\n",
    "    def do_pay(self):\n",
    "        pass\n",
    "\n",
    "\n",
    "class Bank(Payment):\n",
    "    def __init__(self):\n",
    "        self.card = None\n",
    "        self.accout = None\n",
    "\n",
    "    def __getAccount(self):\n",
    "        self.accout = self.card\n",
    "        return self.accout\n",
    "\n",
    "    def __hasFunds(self):\n",
    "        print(\"Bank:: Checking if Account\", self.__getAccount(), \"has enough funds\")\n",
    "        return True\n",
    "\n",
    "    def setCard(self, card):\n",
    "        self.card = card\n",
    "\n",
    "    def do_pay(self):\n",
    "        if self.__hasFunds():\n",
    "            print(\"Bank:: Paying the merchant\")\n",
    "            return True\n",
    "        else:\n",
    "            print(\"Bank:; Sorry, not enouph funds!\")\n",
    "            return False\n",
    "\n",
    "\n",
    "class DebitCard(Payment):\n",
    "    def __init__(self):\n",
    "        self.bank = Bank()\n",
    "\n",
    "    def do_pay(self):\n",
    "        card = input(\"Proxy:: Punch in Card Number: \")\n",
    "        self.bank.setCard(card)\n",
    "        return self.bank.do_pay()\n",
    "\n",
    "\n",
    "class You:\n",
    "    def __init__(self):\n",
    "        print(\"You:: Lets buy the Denim shirt\")\n",
    "        self.debitCard = DebitCard()\n",
    "        self.isPurchased = None\n",
    "\n",
    "    def make_payment(self):\n",
    "        self.isPurchased = self.debitCard.do_pay()\n",
    "        self.print_result()\n",
    "\n",
    "    def print_result(self):\n",
    "        if self.isPurchased:\n",
    "            print(\"You:: Wow! Denim shirt is Mine :-)\")\n",
    "        else:\n",
    "            print(\"You:: I should earn more :(\")\n",
    "\n",
    "\n",
    "you = You()\n",
    "you.make_payment()"
   ]
  }
 ],
 "metadata": {
  "kernelspec": {
   "display_name": "Python 3",
   "language": "python",
   "name": "python3"
  },
  "language_info": {
   "codemirror_mode": {
    "name": "ipython",
    "version": 3
   },
   "file_extension": ".py",
   "mimetype": "text/x-python",
   "name": "python",
   "nbconvert_exporter": "python",
   "pygments_lexer": "ipython3",
   "version": "3.11.5"
  }
 },
 "nbformat": 4,
 "nbformat_minor": 2
}
