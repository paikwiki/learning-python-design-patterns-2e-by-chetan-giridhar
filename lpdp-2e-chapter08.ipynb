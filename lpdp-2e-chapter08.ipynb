{
 "cells": [
  {
   "cell_type": "markdown",
   "metadata": {},
   "source": [
    "# 템플릿 메서드 패턴"
   ]
  },
  {
   "cell_type": "markdown",
   "metadata": {},
   "source": [
    "## 적용할만한 상황\n",
    "\n",
    "- 여러 알고리즘 또는 클래스가 비슷하거나 같은 로직을 구현할 때\n",
    "- 알고리즘을 단계별로 서브클래스화하여 코드의 중복을 줄일 수 있을 때\n",
    "- 서브클래스를 오버라이드해 여러 알고리즘을 구현할 수 있을 때"
   ]
  },
  {
   "cell_type": "markdown",
   "metadata": {},
   "source": [
    "## 목적\n",
    "\n",
    "- 알고리즘의 뼈대를 원시 연산으로 구현\n",
    "- 알고리즘의 구조를 수정하지 않고 일부 서브클래스를 재정의\n",
    "- 코드의 재사용과 중복 최소화\n",
    "- 공통 인터페이스 및 구현 활용"
   ]
  },
  {
   "cell_type": "markdown",
   "metadata": {},
   "source": [
    "## 구성 요소\n",
    "\n",
    "- `AbstractClass`: 알고리즘의 단계를 정의하는 추상 메서드로 구성. 구상 서브클래스가 오버라이드함\n",
    "- `template_method()`: 알고리즘의 뼈대 정의. 전체 알고리즘을 정의하는 여러 추상 메서드를 호출\n",
    "- `ConcreteClass`: 여러 추상 메서드로 구성된 알고리즘의 서브클래스 구현"
   ]
  },
  {
   "cell_type": "markdown",
   "metadata": {},
   "source": [
    "## 후크(Hook)\n",
    "\n",
    "- 추상 클래스에 정의된 메서드로, 일반적인 경우 기본 구현은 포함되어 있음 \n",
    "- 서브클래스가 알고리즘 중간 단계를 제어할 수 있는 기능 제공\n",
    "- 서브클래스가 반드시 구현해야하는 부분은 추상 메서드를 사용하고, 선택적인 부분은 후크를 사용"
   ]
  },
  {
   "cell_type": "markdown",
   "metadata": {},
   "source": [
    "## 장점\n",
    "\n",
    "- 코드 중복이 없음\n",
    "- 컴포지션이 아닌 상속을 사용하므로 일부 함수 오버라이드를 통해 코드 재활용 가능\n",
    "- 알고리즘의 각 단계를 서브클래스에서 구현할 수 있는 유연성 제공"
   ]
  },
  {
   "cell_type": "markdown",
   "metadata": {},
   "source": [
    "## 단점\n",
    "\n",
    "- 코드 디버깅 및 이해 어려움. 에러 핸들링과 문서화가 필수적임\n",
    "- 상위 및 하위 클래스 어떤 계층이라도 수정한다면 전체 구조 및 구현에 영향을 줄 수 있어 유지보수가 어려움"
   ]
  },
  {
   "cell_type": "code",
   "execution_count": 1,
   "metadata": {},
   "outputs": [
    {
     "name": "stdout",
     "output_type": "stream",
     "text": [
      "Collecting Swift Source Code\n",
      "Compiling Swift Source Code to LLVM bitcode\n",
      "Program running on runtime environment\n"
     ]
    }
   ],
   "source": [
    "# 템플릿 메서드 패턴 예시\n",
    "from abc import ABCMeta, abstractmethod\n",
    "\n",
    "\n",
    "class Compiler(metaclass=ABCMeta):\n",
    "    @abstractmethod\n",
    "    def collectSource(self):\n",
    "        pass\n",
    "\n",
    "    @abstractmethod\n",
    "    def compileToOjbect(self):\n",
    "        pass\n",
    "\n",
    "    @abstractmethod\n",
    "    def run(self):\n",
    "        pass\n",
    "\n",
    "    def compileAndRun(self):\n",
    "        self.collectSource()\n",
    "        self.compileToOjbect()\n",
    "        self.run()\n",
    "\n",
    "\n",
    "class iOSCompiler(Compiler):\n",
    "    def collectSource(self):\n",
    "        print(\"Collecting Swift Source Code\")\n",
    "\n",
    "    def compileToOjbect(self):\n",
    "        print(\"Compiling Swift Source Code to LLVM bitcode\")\n",
    "\n",
    "    def run(self):\n",
    "        print(\"Program running on runtime environment\")\n",
    "\n",
    "\n",
    "iOS = iOSCompiler()\n",
    "iOS.compileAndRun()\n",
    "\n",
    "# Collecting Swift Source Code\n",
    "# Compiling Swift Source Code to LLVM bitcode\n",
    "# Program running on runtime environment"
   ]
  },
  {
   "cell_type": "code",
   "execution_count": 2,
   "metadata": {},
   "outputs": [
    {
     "name": "stdout",
     "output_type": "stream",
     "text": [
      "Defining the Algorithm. Operation1 follows Operation2\n",
      "My Concrete Operation1\n",
      "Operation 2 remains same\n"
     ]
    }
   ],
   "source": [
    "# 템플릿 메서드 패턴 예시\n",
    "from abc import ABCMeta, abstractmethod\n",
    "\n",
    "\n",
    "class AbstractClass(metaclass=ABCMeta):\n",
    "    def __init__(self):\n",
    "        pass\n",
    "\n",
    "    @abstractmethod\n",
    "    def operation1(self):\n",
    "        pass\n",
    "\n",
    "    @abstractmethod\n",
    "    def operation2(self):\n",
    "        pass\n",
    "\n",
    "    def template_method(self):\n",
    "        print(\"Defining the Algorithm. Operation1 follows Operation2\")\n",
    "        self.operation1()\n",
    "        self.operation2()\n",
    "\n",
    "\n",
    "class ConcreteClass(AbstractClass):\n",
    "\n",
    "    def operation1(self):\n",
    "        print(\"My Concrete Operation1\")\n",
    "\n",
    "    def operation2(self):\n",
    "        print(\"Operation 2 remains same\")\n",
    "\n",
    "\n",
    "class Client:\n",
    "    def main(self):\n",
    "        self.concreate = ConcreteClass()\n",
    "        self.concreate.template_method()\n",
    "\n",
    "\n",
    "client = Client()\n",
    "client.main()\n",
    "\n",
    "# Defining the Algorithm. Operation1 follows Operation2\n",
    "# My Concrete Operation1\n",
    "# Operation 2 remains same"
   ]
  },
  {
   "cell_type": "code",
   "execution_count": 4,
   "metadata": {},
   "outputs": [
    {
     "name": "stdout",
     "output_type": "stream",
     "text": [
      "On foot, on any island, Wow!\n",
      "Enjoy the marine life of Banana Reef\n",
      "Go for the water sports and snorkelling\n",
      "Relax on the beach and enjoy the sun\n",
      "Dont feel like leaving the beach..\n"
     ]
    }
   ],
   "source": [
    "# 템플릿 메서드 패턴 예시 - 여행사\n",
    "from abc import ABCMeta, abstractmethod\n",
    "\n",
    "\n",
    "class Trip(metaclass=ABCMeta):\n",
    "    @abstractmethod\n",
    "    def setTransport(self):\n",
    "        pass\n",
    "\n",
    "    @abstractmethod\n",
    "    def day1(self):\n",
    "        pass\n",
    "\n",
    "    @abstractmethod\n",
    "    def day2(self):\n",
    "        pass\n",
    "\n",
    "    @abstractmethod\n",
    "    def day3(self):\n",
    "        pass\n",
    "\n",
    "    @abstractmethod\n",
    "    def returnHome(self):\n",
    "        pass\n",
    "\n",
    "    def itinerary(self):\n",
    "        self.setTransport()\n",
    "        self.day1()\n",
    "        self.day2()\n",
    "        self.day3()\n",
    "        self.returnHome()\n",
    "\n",
    "\n",
    "class VeniceTrip(Trip):\n",
    "    def setTransport(self):\n",
    "        print(\"Take a boat and find your way in the Grand Canal\")\n",
    "\n",
    "    def day1(self):\n",
    "        print(\"Visit St Mark's Basilica in St Mark's Square\")\n",
    "\n",
    "    def day2(self):\n",
    "        print(\"Apperciate Doge's Palace\")\n",
    "\n",
    "    def day3(self):\n",
    "        print(\"Enjoy the food near the Rialto Bridge\")\n",
    "\n",
    "    def returnHome(self):\n",
    "        print(\"Get souvenirs for friends and get back\")\n",
    "\n",
    "\n",
    "class MaldivesTrip(Trip):\n",
    "    def setTransport(self):\n",
    "        print(\"On foot, on any island, Wow!\")\n",
    "\n",
    "    def day1(self):\n",
    "        print(\"Enjoy the marine life of Banana Reef\")\n",
    "\n",
    "    def day2(self):\n",
    "        print(\"Go for the water sports and snorkelling\")\n",
    "\n",
    "    def day3(self):\n",
    "        print(\"Relax on the beach and enjoy the sun\")\n",
    "\n",
    "    def returnHome(self):\n",
    "        print(\"Dont feel like leaving the beach..\")\n",
    "\n",
    "class TravelAgency:\n",
    "    def arrange_trip(self):\n",
    "        choice = input(\"What kind of place you'd like to go historical or to a beach?\")\n",
    "\n",
    "        if choice == \"historical\":\n",
    "            self.trip = VeniceTrip()\n",
    "            self.trip.itinerary()\n",
    "        if choice == \"beach\":\n",
    "            self.trip = MaldivesTrip()\n",
    "            self.trip.itinerary()\n",
    "\n",
    "TravelAgency().arrange_trip()"
   ]
  }
 ],
 "metadata": {
  "kernelspec": {
   "display_name": "Python 3",
   "language": "python",
   "name": "python3"
  },
  "language_info": {
   "codemirror_mode": {
    "name": "ipython",
    "version": 3
   },
   "file_extension": ".py",
   "mimetype": "text/x-python",
   "name": "python",
   "nbconvert_exporter": "python",
   "pygments_lexer": "ipython3",
   "version": "3.11.5"
  }
 },
 "nbformat": 4,
 "nbformat_minor": 2
}
