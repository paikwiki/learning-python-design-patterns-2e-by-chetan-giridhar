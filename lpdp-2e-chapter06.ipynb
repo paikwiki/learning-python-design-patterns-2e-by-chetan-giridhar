{
 "cells": [
  {
   "cell_type": "markdown",
   "metadata": {},
   "source": [
    "# 옵서버 패턴"
   ]
  },
  {
   "cell_type": "markdown",
   "metadata": {},
   "source": [
    "## 행위 패턴 소개\n",
    "\n",
    "- 생성 패턴은 객체가 생성되는 방식을 다룸\n",
    "- 구조 패턴은 객체와 클래스를 합쳐 더 큰 기능을 구현하는 방식을 다룸\n",
    "- 행위 패턴\n",
    "  - 객체의 역할에 점을 둠\n",
    "  - 객체는 상호 작용하지만, 느슨하게 결합함"
   ]
  },
  {
   "cell_type": "markdown",
   "metadata": {},
   "source": [
    "## 목적\n",
    "\n",
    "- 객체 간 일대다(1:N) 관계를 형성하고 객체의 상태를 다른 종속 객체에 자동으로 알림\n",
    "- 서브젝트의 핵심 부분을 캡슐화\n",
    "\n",
    "## 적용 사례\n",
    "\n",
    "- 분산 시스템의 이벤트 서비스 구현\n",
    "- 뉴스 에이전시 프레임워크\n",
    "- 주식 시장 모델"
   ]
  },
  {
   "cell_type": "markdown",
   "metadata": {},
   "source": [
    "## 옵서버 패턴 메소드\n",
    "\n",
    "### 풀(Pull) 모델\n",
    "\n",
    "풀 모델에서 Observer의 역할\n",
    "\n",
    "- Subject는 변경 사항 발생시 등록된 Observer에 브로드캐스트\n",
    "- Observer는 직접 게시자에게 변경 사항을 요청하고 끌어옴(pull)\n",
    "- Subject가 Observer에 알리는 단계와 Observer가 Subject로부터 데이터를 받아오는 두 단계가 필요하므로 비효율적\n",
    "\n",
    "### 푸시(Push) 모델\n",
    "\n",
    "푸시 모델에서 Subject의 역할\n",
    "\n",
    "- 풀 모델과 달리 Subject가 Observer에 데이터를 전송\n",
    "- Subject는 Observer가 필요로 하지 않는 데이터까지 보낼 수 있음\n",
    "- 쓸데없이 많은 양의 데이터를 전송해 응답 시간이 늦어질 수 있음\n",
    "- 성능을 위해 Subject는 오직 필요한 데이터만 보내야 함"
   ]
  },
  {
   "cell_type": "markdown",
   "metadata": {},
   "source": [
    "## 느슨한 결합(Loose coupling)\n",
    "\n",
    "### 느슨한 결합의 효과\n",
    "\n",
    "- 한 부분의 수정이 예기치 않게 다른 부분까지 영향을 끼치는 위험을 줄임\n",
    "- 테스트와 유지 보수, 장애 처리가 쉬움\n",
    "- 시스템을 쉽게 여러 부분으로 분리\n",
    "\n",
    "### 옵서버 패턴에서의 느슨한 결합\n",
    "\n",
    "- Subject는 정확히 Observer가 어떤 인터페이스를 구현하는지 모름. ConcreteObserver의 존재를 모름\n",
    "- 언제든 새로운 Observer 추가 가능\n",
    "- 새로운 Observer를 추가해도 Subject를 수정할 필요가 없음\n",
    "- Subject 또는 Observer는 독립적임. Observer는 필요시 어디에서도 재사용 가능\n",
    "- Subject 또는 Observer에 대한 수정이 서로에게 아무 영향을 주지 않음"
   ]
  },
  {
   "cell_type": "markdown",
   "metadata": {},
   "source": [
    "## 옵서버 패턴의 장단점\n",
    "\n",
    "### 장점\n",
    "\n",
    "- 객체 간의 느슨한 결합 원칙을 따름\n",
    "- Subject 또는 Observer 클래스를 수정하지 않고 객체 간 자유롭게 데이터를 주고 받을 수 있음\n",
    "- 새로운 Observer를 언제든지 추가/제거할 수 있음\n",
    "\n",
    "### 단점\n",
    "\n",
    "- ConcreteObserver는 상속을 통해 Observer 인터페이스를 구현. 컴포지션에 대한 선택권이 없음\n",
    "- 제대로 구현하지 못한 Observer 클래스는 복잡도를 높이고 성능 저하의 원인이 될 수 있음\n",
    "- 애플리케이션에서 알림(Notification) 기능은 간혹 신뢰할 수 없으며 레이스 상태(Race Condition) 또는 비일관성을 초래할 수 있음"
   ]
  },
  {
   "cell_type": "code",
   "execution_count": 5,
   "metadata": {},
   "outputs": [
    {
     "name": "stdout",
     "output_type": "stream",
     "text": [
      "Observer1 :: Got ('notification',) from <__main__.Subject object at 0x10a3b0950>\n",
      "Observer2 :: Got ('notification',) from <__main__.Subject object at 0x10a3b0950>\n"
     ]
    }
   ],
   "source": [
    "# 옵서버 디자인 패턴\n",
    "class Subject:\n",
    "    def __init__(self):\n",
    "        self.__observers = []\n",
    "\n",
    "    def register(self, observer):\n",
    "        self.__observers.append(observer)\n",
    "\n",
    "    def notifyAll(self, *args, **kwargs):\n",
    "        for observer in self.__observers:\n",
    "            observer.notify(self, *args, **kwargs)\n",
    "\n",
    "class Observer1:\n",
    "    def __init__(self, subject):\n",
    "        subject.register(self)\n",
    "\n",
    "    def notify(self, subject, *args):\n",
    "        print(type(self).__name__, \":: Got\", args, \"from\", subject)\n",
    "\n",
    "class Observer2:\n",
    "    def __init__(self, subject):\n",
    "        subject.register(self)\n",
    "\n",
    "    def notify(self, subject, *args):\n",
    "        print(type(self).__name__, \":: Got\", args, \"from\", subject)\n",
    "\n",
    "subject = Subject()\n",
    "observer1 = Observer1(subject)\n",
    "observer2 = Observer2(subject)\n",
    "subject.notifyAll(\"notification\")\n",
    "\n",
    "# Observer1 :: Got ('notification',) from <__main__.Subject object at 0x10a3b0950>\n",
    "# Observer2 :: Got ('notification',) from <__main__.Subject object at 0x10a3b0950>"
   ]
  },
  {
   "cell_type": "code",
   "execution_count": 6,
   "metadata": {},
   "outputs": [
    {
     "name": "stdout",
     "output_type": "stream",
     "text": [
      "\n",
      "Subscribers: ['SMSSubcriber', 'EmailSubcriber', 'AnotherSubcriber']\n",
      "SMSSubcriber ('Got News:', 'Hello World!')\n",
      "EmailSubcriber ('Got News:', 'Hello World!')\n",
      "AnotherSubcriber ('Got News:', 'Hello World!')\n",
      "\n",
      "Datached: AnotherSubcriber\n",
      "\n",
      "Subscribers: ['SMSSubcriber', 'EmailSubcriber']\n",
      "SMSSubcriber ('Got News:', 'My second news!')\n",
      "EmailSubcriber ('Got News:', 'My second news!')\n"
     ]
    }
   ],
   "source": [
    "# 옵서버 패턴 - 뉴스 에이전시\n",
    "from abc import ABCMeta, abstractmethod\n",
    "\n",
    "class NewsPublisher:\n",
    "    def __init__(self):\n",
    "        self.__subscribers = []\n",
    "        self.__latestNews = None\n",
    "\n",
    "    def attach(self, subscriber):\n",
    "        self.__subscribers.append(subscriber)\n",
    "\n",
    "    def detach(self):\n",
    "        return self.__subscribers.pop()\n",
    "\n",
    "    def subscribers(self):\n",
    "        return [type(x).__name__ for x in self.__subscribers]\n",
    "\n",
    "    def notifySubscribers(self):\n",
    "        for sub in self.__subscribers:\n",
    "            sub.update()\n",
    "\n",
    "    def addNews(self, news):\n",
    "        self.__latestNews = news\n",
    "\n",
    "    def getNews(self):\n",
    "        return \"Got News:\", self.__latestNews\n",
    "\n",
    "class Subscriber(metaclass=ABCMeta):\n",
    "\n",
    "    @abstractmethod\n",
    "    def update(self):\n",
    "        pass\n",
    "\n",
    "class SMSSubcriber(Subscriber):\n",
    "    def __init__(self, publisher):\n",
    "        self.publisher = publisher\n",
    "        self.publisher.attach(self)\n",
    "\n",
    "    def update(self):\n",
    "        print(type(self).__name__, self.publisher.getNews())\n",
    "\n",
    "class EmailSubcriber(Subscriber):\n",
    "    def __init__(self, publisher):\n",
    "        self.publisher = publisher\n",
    "        self.publisher.attach(self)\n",
    "\n",
    "    def update(self):\n",
    "        print(type(self).__name__, self.publisher.getNews())\n",
    "\n",
    "class AnotherSubcriber(Subscriber):\n",
    "    def __init__(self, publisher):\n",
    "        self.publisher = publisher\n",
    "        self.publisher.attach(self)\n",
    "\n",
    "    def update(self):\n",
    "        print(type(self).__name__, self.publisher.getNews())\n",
    "\n",
    "if __name__ == \"__main__\":\n",
    "    news_publisher = NewsPublisher()\n",
    "    for Subscribers in [SMSSubcriber, EmailSubcriber, AnotherSubcriber]:\n",
    "        Subscribers(news_publisher)\n",
    "    print(\"\\nSubscribers:\", news_publisher.subscribers())\n",
    "\n",
    "    news_publisher.addNews(\"Hello World!\")\n",
    "    news_publisher.notifySubscribers()\n",
    "\n",
    "    print(\"\\nDatached:\", type(news_publisher.detach()).__name__)\n",
    "    print(\"\\nSubscribers:\", news_publisher.subscribers())\n",
    "\n",
    "    news_publisher.addNews(\"My second news!\")\n",
    "    news_publisher.notifySubscribers()\n",
    "\n",
    "# Subscribers: ['SMSSubcriber', 'EmailSubcriber', 'AnotherSubcriber']\n",
    "# SMSSubcriber ('Got News:', 'Hello World!')\n",
    "# EmailSubcriber ('Got News:', 'Hello World!')\n",
    "# AnotherSubcriber ('Got News:', 'Hello World!')\n",
    "\n",
    "# Datached: AnotherSubcriber\n",
    "\n",
    "# Subscribers: ['SMSSubcriber', 'EmailSubcriber']\n",
    "# SMSSubcriber ('Got News:', 'My second news!')\n",
    "# EmailSubcriber ('Got News:', 'My second news!')"
   ]
  }
 ],
 "metadata": {
  "kernelspec": {
   "display_name": "Python 3",
   "language": "python",
   "name": "python3"
  },
  "language_info": {
   "codemirror_mode": {
    "name": "ipython",
    "version": 3
   },
   "file_extension": ".py",
   "mimetype": "text/x-python",
   "name": "python",
   "nbconvert_exporter": "python",
   "pygments_lexer": "ipython3",
   "version": "3.11.5"
  }
 },
 "nbformat": 4,
 "nbformat_minor": 2
}
