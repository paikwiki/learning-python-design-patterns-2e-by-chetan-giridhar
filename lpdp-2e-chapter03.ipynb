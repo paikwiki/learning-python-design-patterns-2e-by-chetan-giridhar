{
 "cells": [
  {
   "cell_type": "markdown",
   "metadata": {},
   "source": [
    "# 3장. 팩토리 패턴"
   ]
  },
  {
   "cell_type": "markdown",
   "metadata": {},
   "source": [
    "## 목적\n",
    "\n",
    "- 객체 생성과 클래스 구현을 나눠 상호 의존도를 줄임\n",
    "- 클라이언트는 생성하려는 객체 클래스 구현과 상관없이 사용 가능\n",
    "- 코드를 수정하지 않고 팩토리에 새로운 클래스를 추가할 수 있음\n",
    "- 이미 생성된 객체를 팩토리가 재활용할 수 있음"
   ]
  },
  {
   "cell_type": "markdown",
   "metadata": {},
   "source": [
    "## 종류\n",
    "\n",
    "- 심플 팩토리 패턴(The Simple Factory Pattern): 인터페이스는 객체 생성 로직을 숨기고 객체를 생성\n",
    "- 팩토리 메소드 패턴(The Factory Method Pattern): 인터페이스를 통해 객체를 생성하지만 서브 클래스가 객체 생성에 필요한 클래스를 선택\n",
    "- 추상 팩토리 패턴(The Abstract Factory Pattern): 객체 생성에 필요한 클래스를 노출하지 않고 객체를 생성하는 인터페이스. 내부적으로 다른 팩토리 객체를 생성"
   ]
  },
  {
   "cell_type": "markdown",
   "metadata": {},
   "source": [
    "### 팩토리 메소드 패턴\n",
    "\n",
    "- 유연성과 포괄성을 갖추며 한 클래스에 종속되지 않음\n",
    "- 객체 생성 코드와 활용 코드를 분리해 의존성이 줄어듬"
   ]
  },
  {
   "cell_type": "markdown",
   "metadata": {},
   "source": [
    "### 추상 팩토리 패턴\n",
    "\n",
    "- 클래스를 직접 호출하지 않고 관련된 객체를 생성하는 인터페이스를 제공하는 것이 주 목적\n",
    "- 서브 클래스에게 인스턴스 생성을 맡기는 팩토리 메서드와 달리, 관련된 객체의 집합을 생성함"
   ]
  },
  {
   "cell_type": "markdown",
   "metadata": {},
   "source": [
    "## 팩토리 메서드 vs 추상 팩토리 메서드\n",
    "\n",
    "| 팩토리 메서드                                   | 추상 팩토리 메서드                                                 |\n",
    "| ----------------------------------------------- | ------------------------------------------------------------------ |\n",
    "| 객체 생성에 필요한 메서드를 사용자에게 노출     | 관련된 객체 집단을 생성하기 위한 한 개 이상의 팩토리 메서드가 필요 |\n",
    "| 생성할 객체를 결정하는 상속과 서브클래스가 필요 | 다른 클래스 객체를 생성하기 위한 컴포지션을 사용                 |\n",
    "| 한 개의 객체를 생성하는 팩토리 메서드 사용      | 관련된 객체 집단을 생성                                            |\n"
   ]
  },
  {
   "cell_type": "code",
   "execution_count": 5,
   "metadata": {},
   "outputs": [
    {
     "name": "stdout",
     "output_type": "stream",
     "text": [
      "Meow Meow!!\n"
     ]
    }
   ],
   "source": [
    "# 심플 팩토리 패턴s\n",
    "from abc import ABCMeta, abstractmethod\n",
    "\n",
    "\n",
    "class Animal(metaclass=ABCMeta):\n",
    "    @abstractmethod\n",
    "    def do_say(self):\n",
    "        pass\n",
    "\n",
    "\n",
    "class Dog(Animal):\n",
    "    def do_say(self):\n",
    "        print(\"Bhow Bhow!!\")\n",
    "\n",
    "\n",
    "class Cat(Animal):\n",
    "    def do_say(self):\n",
    "        print(\"Meow Meow!!\")\n",
    "\n",
    "\n",
    "## forest factory 정의\n",
    "class ForestFactory(object):\n",
    "    def make_sound(self, object_type):\n",
    "        return eval(object_type)().do_say()\n",
    "\n",
    "\n",
    "## 클라이언트 코드\n",
    "if __name__ == \"__main__\":\n",
    "    ff = ForestFactory()\n",
    "    animal = input(\"Which animal should make_sound Dog or Cat?\")\n",
    "    ff.make_sound(animal)\n",
    "\n",
    "    # < Cat\n",
    "    # Meow Meow!!"
   ]
  },
  {
   "cell_type": "code",
   "execution_count": 4,
   "metadata": {},
   "outputs": [
    {
     "name": "stdout",
     "output_type": "stream",
     "text": [
      "Creating Profile.. linkedin\n",
      "Profile has sections -- [<__main__.PersnalSection object at 0x108f55d10>, <__main__.PatentSection object at 0x108f554d0>, <__main__.PublicationSection object at 0x108f54590>]\n"
     ]
    }
   ],
   "source": [
    "# 팩토리 메소드 패턴\n",
    "from abc import ABCMeta, abstractmethod\n",
    "\n",
    "\n",
    "class Section(metaclass=ABCMeta):\n",
    "    @abstractmethod\n",
    "    def describe(self):\n",
    "        pass\n",
    "\n",
    "\n",
    "class PersnalSection(Section):\n",
    "    def describe(self):\n",
    "        print(\"Personal Section\")\n",
    "\n",
    "\n",
    "class AlbumSection(Section):\n",
    "    def describe(self):\n",
    "        print(\"Album Section\")\n",
    "\n",
    "\n",
    "class PatentSection(Section):\n",
    "    def describe(self):\n",
    "        print(\"Patent Section\")\n",
    "\n",
    "\n",
    "class PublicationSection(Section):\n",
    "    def describe(self):\n",
    "        print(\"Publication Seciton\")\n",
    "\n",
    "\n",
    "class Profile(metaclass=ABCMeta):\n",
    "    def __init__(self):\n",
    "        self.sections = []\n",
    "        self.createProfile()\n",
    "\n",
    "    @abstractmethod\n",
    "    def createProfile(self):\n",
    "        pass\n",
    "\n",
    "    def getSections(self):\n",
    "        return self.sections\n",
    "\n",
    "    def addSections(self, section):\n",
    "        self.sections.append(section)\n",
    "\n",
    "\n",
    "class linkedin(Profile):\n",
    "    def createProfile(self):\n",
    "        self.addSections(PersnalSection())\n",
    "        self.addSections(PatentSection())\n",
    "        self.addSections(PublicationSection())\n",
    "\n",
    "\n",
    "class facebook(Profile):\n",
    "    def createProfile(self):\n",
    "        self.addSections(PersnalSection())\n",
    "        self.addSections(AlbumSection())\n",
    "\n",
    "\n",
    "if __name__ == \"__main__\":\n",
    "    profile_type = input(\"Which Profile you'd like to create?[LinkedIn or FaceBoo]\")\n",
    "    profile = eval(profile_type.lower())()\n",
    "    print(\"Creating Profile..\", type(profile).__name__)\n",
    "    print(\"Profile has sections --\", profile.getSections())\n",
    "\n",
    "# < LinkedIn\n",
    "# > Creating Profile.. linkedin\n",
    "# Profile has sections -- [<__main__.PersnalSection object at 0x108f55d10>, <__main__.PatentSection object at 0x108f554d0>, <__main__.PublicationSection object at 0x108f54590>]"
   ]
  },
  {
   "cell_type": "code",
   "execution_count": 11,
   "metadata": {},
   "outputs": [
    {
     "name": "stdout",
     "output_type": "stream",
     "text": [
      "Prepare DeluxVeggiePizza\n",
      "ChickenPizza is served with Chicken on DeluxVeggiePizza\n",
      "Prepare MexicanVegPizza\n",
      "HamPizza is served with Ham on MexicanVegPizza\n"
     ]
    }
   ],
   "source": [
    "# 추상 팩토리 패턴\n",
    "from abc import ABCMeta, abstractmethod\n",
    "\n",
    "\n",
    "class PizzaFactory(metaclass=ABCMeta):\n",
    "    @abstractmethod\n",
    "    def createVegPizza(self):\n",
    "        pass\n",
    "\n",
    "    @abstractmethod\n",
    "    def createNonVegPizza(self):\n",
    "        pass\n",
    "\n",
    "\n",
    "class IndianPizzaFactory(PizzaFactory):\n",
    "    def createVegPizza(self):\n",
    "        return DeluxVeggiePizza()\n",
    "\n",
    "    def createNonVegPizza(self):\n",
    "        return ChickenPizza()\n",
    "\n",
    "\n",
    "class USPizzaFactory(PizzaFactory):\n",
    "    def createVegPizza(self):\n",
    "        return MexicanVegPizza()\n",
    "\n",
    "    def createNonVegPizza(self):\n",
    "        return HamPizza()\n",
    "\n",
    "\n",
    "class VegPizza(metaclass=ABCMeta):\n",
    "    @abstractmethod\n",
    "    def prepare(self, VegPizza):\n",
    "        pass\n",
    "\n",
    "\n",
    "class NonVegPizza(metaclass=ABCMeta):\n",
    "    @abstractmethod\n",
    "    def serve(self, VegPizza):\n",
    "        pass\n",
    "\n",
    "\n",
    "class DeluxVeggiePizza(VegPizza):\n",
    "    def prepare(self):\n",
    "        print(\"Prepare\", type(self).__name__)\n",
    "\n",
    "\n",
    "class ChickenPizza(NonVegPizza):\n",
    "    def serve(self, VegPizza):\n",
    "        print(type(self).__name__, \"is served with Chicken on\", type(VegPizza).__name__)\n",
    "\n",
    "\n",
    "class MexicanVegPizza(VegPizza):\n",
    "    def prepare(self):\n",
    "        print(\"Prepare\", type(self).__name__)\n",
    "\n",
    "\n",
    "class HamPizza(NonVegPizza):\n",
    "    def serve(self, VegPizza):\n",
    "        print(type(self).__name__, \"is served with Ham on\", type(VegPizza).__name__)\n",
    "\n",
    "\n",
    "class PizzaStore:\n",
    "    def __init__(self):\n",
    "        pass\n",
    "\n",
    "    def makePizzas(self):\n",
    "        for factory in [IndianPizzaFactory(), USPizzaFactory()]:\n",
    "            self.factory = factory\n",
    "            self.NonVegPizza = self.factory.createNonVegPizza()\n",
    "            self.VegPizza = self.factory.createVegPizza()\n",
    "            self.VegPizza.prepare()\n",
    "            self.NonVegPizza.serve(self.VegPizza)\n",
    "\n",
    "\n",
    "pizza = PizzaStore()\n",
    "pizza.makePizzas()"
   ]
  }
 ],
 "metadata": {
  "kernelspec": {
   "display_name": "Python 3",
   "language": "python",
   "name": "python3"
  },
  "language_info": {
   "codemirror_mode": {
    "name": "ipython",
    "version": 3
   },
   "file_extension": ".py",
   "mimetype": "text/x-python",
   "name": "python",
   "nbconvert_exporter": "python",
   "pygments_lexer": "ipython3",
   "version": "3.11.5"
  }
 },
 "nbformat": 4,
 "nbformat_minor": 2
}
