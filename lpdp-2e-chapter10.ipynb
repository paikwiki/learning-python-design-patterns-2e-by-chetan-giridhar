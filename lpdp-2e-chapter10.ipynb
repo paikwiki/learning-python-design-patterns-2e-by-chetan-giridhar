{
 "cells": [
  {
   "cell_type": "markdown",
   "metadata": {},
   "source": [
    "# 상태 디자인 패턴\n"
   ]
  },
  {
   "cell_type": "markdown",
   "metadata": {},
   "source": [
    "## 구성 요소\n",
    "\n",
    "- `State`\n",
    "  - 객체의 행위를 캡슐화하는 인터페이스. 행위는 객체에 상태에 따라 변함\n",
    "  - 추상 메서드를 정의하는 인터페이스. 이 메서드는 `ConcreteState`가 구현\n",
    "- `ConcreteState`\n",
    "  - `State` 인터페이스를 구현하는 서브클래스. 특정 상태의 객체의 행위를 구현\n",
    "  - `State` 설정에 따라 실행될 각자의 `Handle` 메서드를 구현\n",
    "- `Context`\n",
    "  - 사용자가 선택한 인터페이스를 정의. `ConcreteState` 서브클래스의 인스턴스를 가짐\n",
    "  - 사용자의 요청을 넘겨받는 클래스. 객체의 현재 상태를 저장하고 요청에 맞는 메서드를 호출\n"
   ]
  },
  {
   "cell_type": "markdown",
   "metadata": {},
   "source": [
    "## 장점\n",
    "\n",
    "- 객체의 행위는 해당 상태의 실행 함수의 결괏값과 같음. 행위는 상태에 따라 런타임에 변경됨\n",
    "- 다형성(Polymorphic) 구현이 쉬우며 새로운 상태를 쉽게 추가할 수 있음\n",
    "- 상태 관련 행위가 모두 `ConcreteState` 클래스에 있으므로 응집도(Cohesion)가 높아짐\n",
    "- 새로운 `ConcreteState` 클래스를 추가해 쉽게 신규 기능을 구현할 수 있음\n",
    "- 코드의 유연성이 높아지고 유지보수가 쉬움\n"
   ]
  },
  {
   "cell_type": "markdown",
   "metadata": {},
   "source": [
    "## 단점\n",
    "\n",
    "- 클래스 남발(Class Explosion). 모든 상태를 `ConcreteState` 클래스로 정의하면 쓸데없는 클래스가 많아짐\n",
    "- 코드의 양이 늘어나고 전체 구조를 파악하기 어려움\n",
    "- 새로운 행위는 `ConcreteState`를 새로 추가하면 되지만 `Context` 클래스도 수정해야 함\n",
    "- 따라서 `Context`는 행위가 추가될 때마다 취약해짐\n"
   ]
  },
  {
   "cell_type": "code",
   "execution_count": 4,
   "metadata": {},
   "outputs": [
    {
     "name": "stdout",
     "output_type": "stream",
     "text": [
      "ConcreteStateA\n"
     ]
    }
   ],
   "source": [
    "# 상태 디자인 패턴 예시\n",
    "from abc import ABCMeta, abstractmethod\n",
    "\n",
    "\n",
    "class State(metaclass=ABCMeta):\n",
    "    @abstractmethod\n",
    "    def Handle(self):\n",
    "        pass\n",
    "\n",
    "\n",
    "class ConcreteStateA(State):\n",
    "    def Handle(self):\n",
    "        print(\"ConcreteStateA\")\n",
    "\n",
    "\n",
    "class ConcreteStateB(State):\n",
    "    def Handle(self):\n",
    "        print(\"ConcreteStateB\")\n",
    "\n",
    "\n",
    "class Context(State):\n",
    "    def __init__(self):\n",
    "        self.state = None\n",
    "\n",
    "    def getState(self):\n",
    "        return self.state\n",
    "\n",
    "    def setState(self, state):\n",
    "        self.state = state\n",
    "\n",
    "    def Handle(self):\n",
    "        self.state.Handle()\n",
    "\n",
    "\n",
    "context = Context()\n",
    "stateA = ConcreteStateA()\n",
    "stateB = ConcreteStateB()\n",
    "\n",
    "context.setState(stateA)\n",
    "context.Handle()\n",
    "\n",
    "# ConcreteStateA"
   ]
  },
  {
   "cell_type": "code",
   "execution_count": 6,
   "metadata": {},
   "outputs": [
    {
     "name": "stdout",
     "output_type": "stream",
     "text": [
      "TV Switching OFF...\n"
     ]
    }
   ],
   "source": [
    "# 상태 디자인 패턴 예시\n",
    "from abc import ABCMeta, abstractmethod\n",
    "\n",
    "\n",
    "class State(metaclass=ABCMeta):\n",
    "    @abstractmethod\n",
    "    def doThis(self):\n",
    "        pass\n",
    "\n",
    "\n",
    "class StartState(State):\n",
    "    def doThis(self):\n",
    "        print(\"TV Switching ON...\")\n",
    "\n",
    "\n",
    "class StopState(State):\n",
    "    def doThis(self):\n",
    "        print(\"TV Switching OFF...\")\n",
    "\n",
    "\n",
    "class TVContext(State):\n",
    "    def __init__(self):\n",
    "        self.state = None\n",
    "\n",
    "    def getState(self):\n",
    "        return self.state\n",
    "\n",
    "    def setState(self, state):\n",
    "        self.state = state\n",
    "\n",
    "    def doThis(self):\n",
    "        self.state.doThis()\n",
    "\n",
    "\n",
    "context = TVContext()\n",
    "startState = StartState()\n",
    "stopState = StopState()\n",
    "\n",
    "context.setState(stopState)\n",
    "context.doThis()\n",
    "\n",
    "# TV Switching OFF..."
   ]
  },
  {
   "cell_type": "code",
   "execution_count": 7,
   "metadata": {},
   "outputs": [
    {
     "name": "stdout",
     "output_type": "stream",
     "text": [
      "Current: off => switched to new state on\n",
      "Current: on => switched to new state off\n",
      "Current: off => switched to new state on\n",
      "Current: on => switched to new state suspend\n",
      "Current: suspend => switching to hibernate not possible.\n",
      "Current: suspend => switched to new state on\n",
      "Current: on => switched to new state off\n"
     ]
    }
   ],
   "source": [
    "# 상태 디자인 패턴 예시 - 컴퓨터 시스템\n",
    "class ComputerState:\n",
    "    name = \"state\"\n",
    "    allowed = []\n",
    "\n",
    "    def switch(self, state):\n",
    "        if state.name in self.allowed:\n",
    "            print(\"Current:\", self, \"=> switched to new state\", state.name)\n",
    "            self.__class__ = state\n",
    "        else:\n",
    "            print(\"Current:\", self, \"=> switching to\", state.name, \"not possible.\")\n",
    "\n",
    "    def __str__(self):\n",
    "        return self.name\n",
    "\n",
    "\n",
    "class Off(ComputerState):\n",
    "    name = \"off\"\n",
    "    allowed = [\"on\"]\n",
    "\n",
    "\n",
    "class On(ComputerState):\n",
    "    name = \"on\"\n",
    "    allowed = [\"off\", \"suspend\", \"hibernate\"]\n",
    "\n",
    "\n",
    "class Suspend(ComputerState):\n",
    "    name = \"suspend\"\n",
    "    allowed = [\"on\"]\n",
    "\n",
    "\n",
    "class Hibernate(ComputerState):\n",
    "    name = \"hibernate\"\n",
    "    allowed = [\"on\"]\n",
    "\n",
    "\n",
    "class Computer:\n",
    "    def __init__(self, model=\"HP\"):\n",
    "        self.model = model\n",
    "        self.state = Off()\n",
    "\n",
    "    def change(self, state):\n",
    "        self.state.switch(state)\n",
    "\n",
    "\n",
    "if __name__ == \"__main__\":\n",
    "    comp = Computer()\n",
    "\n",
    "    comp.change(On)\n",
    "    comp.change(Off)\n",
    "    comp.change(On)\n",
    "    comp.change(Suspend)\n",
    "    comp.change(Hibernate)\n",
    "    comp.change(On)\n",
    "    comp.change(Off)\n",
    "\n",
    "# Current: off => switched to new state on\n",
    "# Current: on => switched to new state off\n",
    "# Current: off => switched to new state on\n",
    "# Current: on => switched to new state suspend\n",
    "# Current: suspend => switching to hibernate not possible.\n",
    "# Current: suspend => switched to new state on\n",
    "# Current: on => switched to new state off"
   ]
  }
 ],
 "metadata": {
  "kernelspec": {
   "display_name": "Python 3",
   "language": "python",
   "name": "python3"
  },
  "language_info": {
   "codemirror_mode": {
    "name": "ipython",
    "version": 3
   },
   "file_extension": ".py",
   "mimetype": "text/x-python",
   "name": "python",
   "nbconvert_exporter": "python",
   "pygments_lexer": "ipython3",
   "version": "3.11.5"
  }
 },
 "nbformat": 4,
 "nbformat_minor": 2
}
