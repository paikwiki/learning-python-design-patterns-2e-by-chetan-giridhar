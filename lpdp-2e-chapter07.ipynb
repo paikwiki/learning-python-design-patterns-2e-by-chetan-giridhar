{
 "cells": [
  {
   "cell_type": "markdown",
   "metadata": {},
   "source": [
    "# 커맨드 패턴"
   ]
  },
  {
   "cell_type": "markdown",
   "metadata": {},
   "source": [
    "## 개요\n",
    "\n",
    "커맨드 패턴: 객체가 특정 기능을 바로 수행하거나 나중에 트리거할 때 필요한 모든 정보를 캡슐화 하는 행동 패턴\n",
    "\n",
    "- 캡슐화하는 정보\n",
    "  - 메소드명\n",
    "  - 메소드를 소유하는 객체\n",
    "  - 메소드 인자"
   ]
  },
  {
   "cell_type": "markdown",
   "metadata": {},
   "source": [
    "## 구성 요소\n",
    "\n",
    "`Command`, `Receiver`, `Invoker`, `Client` 클래스로 구성\n",
    "\n",
    "- `Command` 객체는 `Receiver` 객체에 대해 알고 있으며 `Reciever` 객체의 함수를 호출\n",
    "- `Receiver` 함수의 인자는 `Command` 객체에 저장\n",
    "- `Invoker`는 명령을 수행\n",
    "- `Client`는 `Command` 객체를 생성하고 `Receiver`를 정함"
   ]
  },
  {
   "cell_type": "markdown",
   "metadata": {},
   "source": [
    "## 목적\n",
    "\n",
    "- 요청을 객체 속에 캡슐화\n",
    "- 클라이언트의 다양한 요청을 매개변수화\n",
    "- 요청을 큐에 저장\n",
    "- 객체지향 콜백 지원"
   ]
  },
  {
   "cell_type": "markdown",
   "metadata": {},
   "source": [
    "## 커맨드 패턴을 적용할만한 상황\n",
    "\n",
    "- 수행할 명령에 따라 객체를 변수화\n",
    "- 요청을 큐에 저장하고 각기 다른 시점에 수행\n",
    "- 작은 단위의 연산을 기반으로 하는 상위 연산을 생성"
   ]
  },
  {
   "cell_type": "markdown",
   "metadata": {},
   "source": [
    "## 구성 요소\n",
    "\n",
    "- `Command`: 연산을 수행할 인터페이스 정의\n",
    "- `ConcreteComand`: `Receiver` 객체와 연산 간 바인딩 정의\n",
    "- `Client`: `ConcreteCommand` 객체를 생성하고 `Receiver`를 설정\n",
    "- `Invoker`: `ConcreteCommand`에 수행을 요청\n",
    "- `Receiver`: 요청에 관련된 연산을 관리"
   ]
  },
  {
   "cell_type": "code",
   "execution_count": 1,
   "metadata": {},
   "outputs": [
    {
     "name": "stdout",
     "output_type": "stream",
     "text": [
      "Copying binaries -- python3.5.gzip  to  /usr/bin/\n",
      "No Operation\n"
     ]
    }
   ],
   "source": [
    "# 커맨드 패턴 예시 - 인스톨러\n",
    "\n",
    "\n",
    "class Wizard:\n",
    "    def __init__(self, src, rootdir):\n",
    "        self.choices = []\n",
    "        self.rootdir = rootdir\n",
    "        self.src = src\n",
    "\n",
    "    def preferences(self, command):\n",
    "        self.choices.append(command)\n",
    "\n",
    "    def execute(self):\n",
    "        for choice in self.choices:\n",
    "            if list(choice.values())[0]:\n",
    "                print(\"Copying binaries --\", self.src, \" to \", self.rootdir)\n",
    "            else:\n",
    "                print(\"No Operation\")\n",
    "\n",
    "\n",
    "if __name__ == \"__main__\":\n",
    "    # Client\n",
    "    wizard = Wizard(\"python3.5.gzip\", \"/usr/bin/\")\n",
    "    wizard.preferences({\"python\": True})\n",
    "    wizard.preferences({\"java\": False})\n",
    "    wizard.execute()\n",
    "\n",
    "# Copying binaries -- python3.5.gzip  to  /usr/bin/\n",
    "# No Operation"
   ]
  },
  {
   "cell_type": "code",
   "execution_count": 2,
   "metadata": {},
   "outputs": [
    {
     "name": "stdout",
     "output_type": "stream",
     "text": [
      "Receiver Action\n"
     ]
    }
   ],
   "source": [
    "# 커맨드 패턴 예시\n",
    "from abc import ABCMeta, abstractmethod\n",
    "\n",
    "\n",
    "class Command(metaclass=ABCMeta):\n",
    "    def __init__(self, recv):\n",
    "        self.recv = recv\n",
    "\n",
    "    @abstractmethod\n",
    "    def execute(self):\n",
    "        pass\n",
    "\n",
    "\n",
    "class ConcreteCommand(Command):\n",
    "    def __init__(self, recv):\n",
    "        self.recv = recv\n",
    "\n",
    "    def execute(self):\n",
    "        return self.recv.action()\n",
    "\n",
    "\n",
    "class Receiver:\n",
    "    def action(self):\n",
    "        print(\"Receiver Action\")\n",
    "\n",
    "\n",
    "class Invoker:\n",
    "    def command(self, cmd):\n",
    "        self.cmd = cmd\n",
    "\n",
    "    def execute(self):\n",
    "        self.cmd.execute()\n",
    "\n",
    "\n",
    "if __name__ == \"__main__\":\n",
    "    recv = Receiver()\n",
    "    cmd = ConcreteCommand(recv)\n",
    "    invoker = Invoker()\n",
    "    invoker.command(cmd)\n",
    "    invoker.execute()\n",
    "\n",
    "# Receiver Action"
   ]
  },
  {
   "cell_type": "code",
   "execution_count": 3,
   "metadata": {},
   "outputs": [
    {
     "name": "stdout",
     "output_type": "stream",
     "text": [
      "You will buy stocks\n",
      "You wull sell stocks\n"
     ]
    }
   ],
   "source": [
    "# 커맨드 패턴 예시 - 증권거래소\n",
    "from abc import ABCMeta, abstractmethod\n",
    "\n",
    "\n",
    "class Order(metaclass=ABCMeta):\n",
    "    @abstractmethod\n",
    "    def execute(self):\n",
    "        pass\n",
    "\n",
    "class BuyStockOrder(Order):\n",
    "    def __init__(self, stock):\n",
    "        self.stock = stock\n",
    "\n",
    "    def execute(self):\n",
    "        self.stock.buy()\n",
    "\n",
    "class SellStockOrder(Order):\n",
    "    def __init__(self, stock):\n",
    "        self.stock = stock\n",
    "\n",
    "    def execute(self):\n",
    "        self.stock.sell()\n",
    "\n",
    "class StockTrade:\n",
    "    def buy(self):\n",
    "        print(\"You will buy stocks\")\n",
    "\n",
    "    def sell(self):\n",
    "        print(\"You wull sell stocks\")\n",
    "\n",
    "class Agent:\n",
    "    def __init__(self):\n",
    "        self.__orderQueue = []\n",
    "\n",
    "    def placeOrder(self, order):\n",
    "        self.__orderQueue.append(order)\n",
    "        order.execute()\n",
    "\n",
    "if __name__ == \"__main__\":\n",
    "    #Client\n",
    "    stock = StockTrade()\n",
    "    buyStock = BuyStockOrder(stock)\n",
    "    sellStock = SellStockOrder(stock)\n",
    "\n",
    "    #Invoker\n",
    "    agent = Agent()\n",
    "    agent.placeOrder(buyStock)\n",
    "    agent.placeOrder(sellStock)\n",
    "\n",
    "# You will buy stocks\n",
    "# You wull sell stocks"
   ]
  }
 ],
 "metadata": {
  "kernelspec": {
   "display_name": "Python 3",
   "language": "python",
   "name": "python3"
  },
  "language_info": {
   "codemirror_mode": {
    "name": "ipython",
    "version": 3
   },
   "file_extension": ".py",
   "mimetype": "text/x-python",
   "name": "python",
   "nbconvert_exporter": "python",
   "pygments_lexer": "ipython3",
   "version": "3.11.5"
  }
 },
 "nbformat": 4,
 "nbformat_minor": 2
}
